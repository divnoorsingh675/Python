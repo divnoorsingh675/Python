{
 "cells": [
  {
   "cell_type": "code",
   "execution_count": 1,
   "metadata": {},
   "outputs": [],
   "source": [
    "bank_balance = 200"
   ]
  },
  {
   "cell_type": "code",
   "execution_count": 2,
   "metadata": {},
   "outputs": [
    {
     "name": "stdout",
     "output_type": "stream",
     "text": [
      "200\n"
     ]
    }
   ],
   "source": [
    "print(bank_balance)"
   ]
  },
  {
   "cell_type": "code",
   "execution_count": 12,
   "metadata": {},
   "outputs": [
    {
     "name": "stdout",
     "output_type": "stream",
     "text": [
      "2400\n"
     ]
    }
   ],
   "source": [
    "height = 60\n",
    "width = 40\n",
    "new_area_of_rectangle= height * width\n",
    "print(new_area_of_rectangle)"
   ]
  },
  {
   "cell_type": "code",
   "execution_count": 29,
   "metadata": {},
   "outputs": [
    {
     "name": "stdout",
     "output_type": "stream",
     "text": [
      "25\n"
     ]
    }
   ],
   "source": [
    "weight=72.25\n",
    "height=1.7\n",
    "bmi = int(weight / (height * height))\n",
    "print(bmi)"
   ]
  },
  {
   "cell_type": "code",
   "execution_count": 52,
   "metadata": {},
   "outputs": [],
   "source": [
    "gender = \"male\"\n",
    "is_obese = False"
   ]
  },
  {
   "cell_type": "code",
   "execution_count": 58,
   "metadata": {},
   "outputs": [
    {
     "name": "stdout",
     "output_type": "stream",
     "text": [
      "<class 'float'>\n"
     ]
    }
   ],
   "source": [
    "total_interest=9762.69\n",
    "print(type(total_interest))"
   ]
  },
  {
   "cell_type": "code",
   "execution_count": 60,
   "metadata": {},
   "outputs": [
    {
     "name": "stdout",
     "output_type": "stream",
     "text": [
      "BMI is 25\n"
     ]
    }
   ],
   "source": [
    "bmi_str = str(25)\n",
    "message= \"BMI is \" + bmi_str\n",
    "print(message)"
   ]
  },
  {
   "cell_type": "code",
   "execution_count": 66,
   "metadata": {},
   "outputs": [],
   "source": [
    "edge = 8.9\n",
    "square_area = edge * edge\n",
    "square_area_type = type(square_area)\n",
    "square_area_int=int(square_area)\n",
    "square_area_str=str(square_area_int)"
   ]
  },
  {
   "cell_type": "code",
   "execution_count": 67,
   "metadata": {},
   "outputs": [
    {
     "name": "stdout",
     "output_type": "stream",
     "text": [
      "79.21000000000001\n",
      "<class 'float'>\n",
      "79\n",
      "79\n"
     ]
    }
   ],
   "source": [
    "print(square_area)\n",
    "print(square_area_type)\n",
    "print(square_area_int)\n",
    "print(square_area_str)"
   ]
  },
  {
   "cell_type": "code",
   "execution_count": 2,
   "metadata": {},
   "outputs": [],
   "source": [
    "import  math"
   ]
  },
  {
   "cell_type": "code",
   "execution_count": 3,
   "metadata": {},
   "outputs": [
    {
     "name": "stdout",
     "output_type": "stream",
     "text": [
      "7.548509786706248\n",
      "0.4383711467890774\n",
      "6.907755278982137\n"
     ]
    }
   ],
   "source": [
    "square_root=math.sqrt(56.98)\n",
    "sine_degree= math.sin((math.pi/180)*26)\n",
    "log_e = math.log(1000)\n",
    "print(square_root)\n",
    "print(sine_degree)\n",
    "print(log_e)\n"
   ]
  },
  {
   "cell_type": "code",
   "execution_count": 8,
   "metadata": {},
   "outputs": [],
   "source": [
    "import random\n",
    "random_number=random.random()\n",
    "random_int=int(random_number)"
   ]
  },
  {
   "cell_type": "code",
   "execution_count": 13,
   "metadata": {},
   "outputs": [
    {
     "name": "stdout",
     "output_type": "stream",
     "text": [
      "Cloudxlab\n"
     ]
    }
   ],
   "source": [
    "def get_name():\n",
    "    print(\"Cloudxlab\")\n",
    "    \n",
    "get_name()    "
   ]
  },
  {
   "cell_type": "code",
   "execution_count": 23,
   "metadata": {},
   "outputs": [],
   "source": [
    "def input_name():\n",
    "    inp = input(\"What am I studying?\")\n",
    "    return inp"
   ]
  },
  {
   "cell_type": "code",
   "execution_count": 25,
   "metadata": {},
   "outputs": [
    {
     "name": "stdout",
     "output_type": "stream",
     "text": [
      "What am I studying?Python\n",
      "Python\n"
     ]
    }
   ],
   "source": [
    "subject=input_name()\n",
    "print(subject)"
   ]
  },
  {
   "cell_type": "code",
   "execution_count": 27,
   "metadata": {},
   "outputs": [],
   "source": [
    "def bool_func(num1, num2, num3,num4):\n",
    "    exp1 = str(num1>num2)\n",
    "    exp2 = str(num1==num3)\n",
    "    exp3 = str(num2<=num3)\n",
    "    exp4 = str(num4 != num1)\n",
    "    \n",
    "    return (exp1 + exp2 + exp3 + exp4)"
   ]
  },
  {
   "cell_type": "code",
   "execution_count": 28,
   "metadata": {},
   "outputs": [
    {
     "data": {
      "text/plain": [
       "'FalseFalseTrueTrue'"
      ]
     },
     "execution_count": 28,
     "metadata": {},
     "output_type": "execute_result"
    }
   ],
   "source": [
    "bool_func(1,2,3,4)"
   ]
  },
  {
   "cell_type": "code",
   "execution_count": 31,
   "metadata": {},
   "outputs": [],
   "source": [
    "def conditional_statements(num1,num2,num3,num4):\n",
    "    if num1 < num2 and num1 > num3 and num1 == num4:\n",
    "        if num3 < num2:\n",
    "            if type(num2) is float:\n",
    "                if type(num1) is int and type(num3) is int and type(num4) is int:\n",
    "                    return num1 + num2 + num3 + num4"
   ]
  },
  {
   "cell_type": "code",
   "execution_count": 48,
   "metadata": {},
   "outputs": [],
   "source": [
    "def sum_func(num):\n",
    "    if type(num) is not int:\n",
    "        return -1\n",
    "    else:\n",
    "        if(num>=0):\n",
    "            a=0\n",
    "            sum = 0\n",
    "            while(a<=num):\n",
    "                sum = sum + a\n",
    "                a+=1\n",
    "            return sum\n",
    "        else:\n",
    "            return -1"
   ]
  },
  {
   "cell_type": "code",
   "execution_count": 51,
   "metadata": {},
   "outputs": [
    {
     "data": {
      "text/plain": [
       "-1"
      ]
     },
     "execution_count": 51,
     "metadata": {},
     "output_type": "execute_result"
    }
   ],
   "source": [
    "sum_func('abcd')"
   ]
  },
  {
   "cell_type": "code",
   "execution_count": 65,
   "metadata": {},
   "outputs": [],
   "source": [
    "def special_func(num):\n",
    "    sum = 0\n",
    "    if type(num) is int and num>0:\n",
    "        for i in range(1,num+1):\n",
    "            if num%i==0 and i%2 != 0:\n",
    "                sum = sum + i\n",
    "        return sum\n",
    "    else:\n",
    "        return -10"
   ]
  },
  {
   "cell_type": "code",
   "execution_count": 69,
   "metadata": {},
   "outputs": [
    {
     "data": {
      "text/plain": [
       "-10"
      ]
     },
     "execution_count": 69,
     "metadata": {},
     "output_type": "execute_result"
    }
   ],
   "source": [
    "special_func('abcd')"
   ]
  },
  {
   "cell_type": "code",
   "execution_count": 104,
   "metadata": {},
   "outputs": [],
   "source": [
    "def str_func(string):\n",
    "    length = len(string)\n",
    "    return string[length-1]\n",
    "\n",
    "def sum_str_func(num):\n",
    "    num = str(num)\n",
    "    total = 0\n",
    "    index = 0\n",
    "    length = len(num)\n",
    "    while index < length:\n",
    "        digit = int(num[index])\n",
    "        total = total + digit\n",
    "        index = index + 1\n",
    "    return total"
   ]
  },
  {
   "cell_type": "code",
   "execution_count": 106,
   "metadata": {},
   "outputs": [
    {
     "data": {
      "text/plain": [
       "10"
      ]
     },
     "execution_count": 106,
     "metadata": {},
     "output_type": "execute_result"
    }
   ],
   "source": [
    "str_func('1234')\n",
    "sum_str_func(1234)"
   ]
  },
  {
   "cell_type": "code",
   "execution_count": 1,
   "metadata": {},
   "outputs": [],
   "source": [
    "def slicing_func(s):\n",
    "    print(s[2:])"
   ]
  },
  {
   "cell_type": "code",
   "execution_count": 94,
   "metadata": {},
   "outputs": [],
   "source": [
    "def email_func(content):\n",
    "    position = content.find('@')\n",
    "    index = position\n",
    "    if position!= -1:\n",
    "        while index >=0 and content[index]!=' ':\n",
    "            index-=1\n",
    "        first_part = content[index+1:position]\n",
    "        ending_position = content.find(' ',position)\n",
    "        if ending_position == -1:\n",
    "            second_part = content[position:]\n",
    "        else:\n",
    "            second_part = content[position:ending_position]\n",
    "        return first_part + second_part\n",
    "    else:\n",
    "        return None"
   ]
  },
  {
   "cell_type": "code",
   "execution_count": 104,
   "metadata": {},
   "outputs": [
    {
     "data": {
      "text/plain": [
       "'@'"
      ]
     },
     "execution_count": 104,
     "metadata": {},
     "output_type": "execute_result"
    }
   ],
   "source": [
    "email_func(\"@  \")"
   ]
  },
  {
   "cell_type": "code",
   "execution_count": 96,
   "metadata": {},
   "outputs": [
    {
     "data": {
      "text/plain": [
       "'abhinav@cloudxlab.com'"
      ]
     },
     "execution_count": 96,
     "metadata": {},
     "output_type": "execute_result"
    }
   ],
   "source": [
    "email_func(\"this is first abhinav@cloudxlab.com and this is second sandeep@cloudxlab.com\")"
   ]
  },
  {
   "cell_type": "code",
   "execution_count": 105,
   "metadata": {},
   "outputs": [],
   "source": [
    "a = [12, 3.4, 34, 'cloudxlab', [2.3, 1.4]]"
   ]
  },
  {
   "cell_type": "code",
   "execution_count": 107,
   "metadata": {},
   "outputs": [
    {
     "name": "stdout",
     "output_type": "stream",
     "text": [
      "False\n"
     ]
    }
   ],
   "source": [
    "print('cloudx lab' in a)"
   ]
  },
  {
   "cell_type": "code",
   "execution_count": 124,
   "metadata": {},
   "outputs": [
    {
     "name": "stdout",
     "output_type": "stream",
     "text": [
      "56\n"
     ]
    }
   ],
   "source": [
    "a = [23,12,32,1,2,34,56]\n",
    "a.append(12)\n",
    "print(a[len(a)-2])"
   ]
  },
  {
   "cell_type": "code",
   "execution_count": 125,
   "metadata": {},
   "outputs": [
    {
     "name": "stdout",
     "output_type": "stream",
     "text": [
      "[23, 12, 32, 1, 2, 34, 56, 12, 23, 12, 32, 1, 2, 34, 56, 12]\n"
     ]
    }
   ],
   "source": [
    "a.extend(a)\n",
    "print(a)"
   ]
  },
  {
   "cell_type": "code",
   "execution_count": 126,
   "metadata": {},
   "outputs": [
    {
     "data": {
      "text/plain": [
       "344"
      ]
     },
     "execution_count": 126,
     "metadata": {},
     "output_type": "execute_result"
    }
   ],
   "source": [
    "sum(a)"
   ]
  },
  {
   "cell_type": "code",
   "execution_count": 127,
   "metadata": {},
   "outputs": [
    {
     "name": "stdout",
     "output_type": "stream",
     "text": [
      "14\n"
     ]
    }
   ],
   "source": [
    "a.sort()\n",
    "print(a[2] + a[7])"
   ]
  },
  {
   "cell_type": "code",
   "execution_count": 128,
   "metadata": {},
   "outputs": [
    {
     "data": {
      "text/plain": [
       "[2, 4, 5]"
      ]
     },
     "execution_count": 128,
     "metadata": {},
     "output_type": "execute_result"
    }
   ],
   "source": [
    "list = [12,23,43,[2,4,5], 2, 4,5]\n",
    "list.pop(3)"
   ]
  },
  {
   "cell_type": "code",
   "execution_count": 129,
   "metadata": {},
   "outputs": [
    {
     "data": {
      "text/plain": [
       "89"
      ]
     },
     "execution_count": 129,
     "metadata": {},
     "output_type": "execute_result"
    }
   ],
   "source": [
    "sum(list)"
   ]
  },
  {
   "cell_type": "code",
   "execution_count": 130,
   "metadata": {},
   "outputs": [
    {
     "name": "stdout",
     "output_type": "stream",
     "text": [
      "['cloudx', 'provides', 'cloud', 'lab']\n"
     ]
    }
   ],
   "source": [
    "list = ['cloudx', 'lab', 'provides', 'cloud', 'lab']\n",
    "del list[1]\n",
    "print(list)"
   ]
  },
  {
   "cell_type": "code",
   "execution_count": 131,
   "metadata": {},
   "outputs": [],
   "source": [
    "list.remove('lab')"
   ]
  },
  {
   "cell_type": "code",
   "execution_count": 135,
   "metadata": {},
   "outputs": [
    {
     "name": "stdout",
     "output_type": "stream",
     "text": [
      "['I ', ' learning Python ', ' at CloudxLab']\n"
     ]
    }
   ],
   "source": [
    "s = \"I am learning Python am at CloudxLab\"\n",
    "sp = s.split(\"am\")\n",
    "print(sp)"
   ]
  },
  {
   "cell_type": "code",
   "execution_count": 136,
   "metadata": {},
   "outputs": [
    {
     "name": "stdout",
     "output_type": "stream",
     "text": [
      "I am learning Python am at CloudxLab\n"
     ]
    }
   ],
   "source": [
    "delimiter = \"am\"    \n",
    "print(delimiter.join(sp))"
   ]
  },
  {
   "cell_type": "code",
   "execution_count": 170,
   "metadata": {},
   "outputs": [],
   "source": [
    "def str_list_func(s):\n",
    "    l = s.split(' ')\n",
    "    i = 0\n",
    "    for element in l:\n",
    "        if len(element) > 1:\n",
    "            first = element[0]\n",
    "            last = element[len(element)-1]\n",
    "            middle = element[1:len(element)-1]\n",
    "            l[i] = last + middle + first\n",
    "        i+=1\n",
    "    return ' '.join(l)"
   ]
  },
  {
   "cell_type": "code",
   "execution_count": 171,
   "metadata": {},
   "outputs": [
    {
     "data": {
      "text/plain": [
       "'I ma gearninl nythoP ta bloudxLaC'"
      ]
     },
     "execution_count": 171,
     "metadata": {},
     "output_type": "execute_result"
    }
   ],
   "source": [
    "str_list_func('I am learning Python at CloudxLab')"
   ]
  },
  {
   "cell_type": "code",
   "execution_count": 175,
   "metadata": {},
   "outputs": [
    {
     "name": "stdout",
     "output_type": "stream",
     "text": [
      "4\n"
     ]
    }
   ],
   "source": [
    "d = { 'one' : 1 , 'two' : 2, 'three' : 3, 'four': 4 }\n",
    "print(len(d))"
   ]
  },
  {
   "cell_type": "code",
   "execution_count": 176,
   "metadata": {},
   "outputs": [
    {
     "name": "stdout",
     "output_type": "stream",
     "text": [
      "True\n"
     ]
    }
   ],
   "source": [
    "print('three' in d)"
   ]
  },
  {
   "cell_type": "code",
   "execution_count": 177,
   "metadata": {},
   "outputs": [
    {
     "name": "stdout",
     "output_type": "stream",
     "text": [
      "False\n"
     ]
    }
   ],
   "source": [
    "print(4 in d)"
   ]
  },
  {
   "cell_type": "code",
   "execution_count": 178,
   "metadata": {},
   "outputs": [
    {
     "name": "stdout",
     "output_type": "stream",
     "text": [
      "False\n"
     ]
    }
   ],
   "source": [
    "print(5 in d and 2 in d)"
   ]
  },
  {
   "cell_type": "code",
   "execution_count": 179,
   "metadata": {},
   "outputs": [],
   "source": [
    "def dict_func(string):\n",
    "    words = string.split()\n",
    "    counts = dict()\n",
    "    for word in words:\n",
    "        counts[word] = counts.get(word,0) + 1\n",
    "        \n",
    "    return counts    "
   ]
  },
  {
   "cell_type": "code",
   "execution_count": 180,
   "metadata": {},
   "outputs": [
    {
     "data": {
      "text/plain": [
       "{'the': 2,\n",
       " 'quick': 1,\n",
       " 'brown': 1,\n",
       " 'fox': 1,\n",
       " 'jumps': 1,\n",
       " 'over': 1,\n",
       " 'lazy': 1,\n",
       " 'dog': 1}"
      ]
     },
     "execution_count": 180,
     "metadata": {},
     "output_type": "execute_result"
    }
   ],
   "source": [
    "dict_func('the quick brown fox jumps over the lazy dog')"
   ]
  },
  {
   "cell_type": "code",
   "execution_count": 184,
   "metadata": {},
   "outputs": [
    {
     "data": {
      "text/plain": [
       "int"
      ]
     },
     "execution_count": 184,
     "metadata": {},
     "output_type": "execute_result"
    }
   ],
   "source": [
    "t = (1)\n",
    "type(t)"
   ]
  },
  {
   "cell_type": "code",
   "execution_count": 185,
   "metadata": {},
   "outputs": [
    {
     "name": "stdout",
     "output_type": "stream",
     "text": [
      "()\n"
     ]
    }
   ],
   "source": [
    "t = tuple()\n",
    "print(t)"
   ]
  },
  {
   "cell_type": "code",
   "execution_count": 186,
   "metadata": {},
   "outputs": [
    {
     "name": "stdout",
     "output_type": "stream",
     "text": [
      "('1', ',', '2', ',', '3', ',', '4', ',', '5')\n",
      "(1, 2, 3, 4, 5)\n",
      "(1, 2, 3, 4, 5)\n"
     ]
    }
   ],
   "source": [
    "t1 = tuple(\"1,2,3,4,5\")\n",
    "t2 = tuple([1,2,3,4,5])\n",
    "t3 = tuple((1,2,3,4,5))\n",
    "print(t1)\n",
    "print(t2)\n",
    "print(t3)"
   ]
  },
  {
   "cell_type": "code",
   "execution_count": 187,
   "metadata": {},
   "outputs": [
    {
     "name": "stdout",
     "output_type": "stream",
     "text": [
      "34\n"
     ]
    }
   ],
   "source": [
    "t = (1,3,5,2,54,34,2,34,5)\n",
    "l = len(t)\n",
    "print(t[l-2])"
   ]
  },
  {
   "cell_type": "code",
   "execution_count": 189,
   "metadata": {},
   "outputs": [
    {
     "name": "stdout",
     "output_type": "stream",
     "text": [
      "(5, 2, 54)\n"
     ]
    }
   ],
   "source": [
    "t2 = t[2:5]\n",
    "print(t2)"
   ]
  },
  {
   "cell_type": "code",
   "execution_count": 190,
   "metadata": {},
   "outputs": [
    {
     "name": "stdout",
     "output_type": "stream",
     "text": [
      "(3, 5, 5, 2, 54)\n"
     ]
    }
   ],
   "source": [
    "t3 = t[1:3] + t2[:]\n",
    "print(t3)"
   ]
  },
  {
   "cell_type": "code",
   "execution_count": 198,
   "metadata": {},
   "outputs": [],
   "source": [
    "def dict_tuple_func(l):\n",
    "    count = dict()\n",
    "    for word in l:\n",
    "        count[word] = count.get(word,0) + 1\n",
    "    sum = 0 \n",
    "    for key in count:\n",
    "        sum += key\n",
    "        \n",
    "    t = tuple([count,sum])\n",
    "    return t"
   ]
  },
  {
   "cell_type": "code",
   "execution_count": 199,
   "metadata": {},
   "outputs": [
    {
     "data": {
      "text/plain": [
       "({1: 2, 2: 2, 3: 2}, 6)"
      ]
     },
     "execution_count": 199,
     "metadata": {},
     "output_type": "execute_result"
    }
   ],
   "source": [
    "dict_tuple_func([1, 2, 3, 1, 2, 3])"
   ]
  },
  {
   "cell_type": "code",
   "execution_count": 1,
   "metadata": {},
   "outputs": [
    {
     "name": "stdout",
     "output_type": "stream",
     "text": [
      "This is a sample file for testing\n",
      "\n",
      "for Python course for\n",
      "\n",
      "learners in CloudxLab.\n",
      "\n",
      "This is a sample file for testing\n",
      "for Python course for\n",
      "learners in CloudxLab.\n",
      "\n"
     ]
    }
   ],
   "source": [
    "with open(\"/cxldata/python_sample_file\") as f:\n",
    "    s = \"\"\n",
    "    for line in f:\n",
    "        print(line)\n",
    "        s = s + line\n",
    "    print(s)"
   ]
  },
  {
   "cell_type": "code",
   "execution_count": 48,
   "metadata": {},
   "outputs": [],
   "source": [
    "def file_read_func(path):\n",
    "    try:\n",
    "        with open(path) as f:\n",
    "            data = f.read()\n",
    "            data = data.replace(\"\\n\",\" \")\n",
    "            #data = data.replace(\".\",\" \")\n",
    "            sum = 0\n",
    "            words = data.split(\" \")\n",
    "            for word in words:\n",
    "                sum += len(word)\n",
    "            return sum    \n",
    "    except:\n",
    "        return -1"
   ]
  },
  {
   "cell_type": "code",
   "execution_count": 49,
   "metadata": {},
   "outputs": [
    {
     "data": {
      "text/plain": [
       "28"
      ]
     },
     "execution_count": 49,
     "metadata": {},
     "output_type": "execute_result"
    }
   ],
   "source": [
    "file_read_func(\"/home/divnoorsingh6758219/cloudxlab_jupyter_notebooks/test12\")"
   ]
  },
  {
   "cell_type": "code",
   "execution_count": 44,
   "metadata": {},
   "outputs": [],
   "source": [
    "with open(\"python_file_writing.txt\", 'a') as f:\n",
    "    f.write(\"I am learning Python at CloudxLab.\")"
   ]
  },
  {
   "cell_type": "code",
   "execution_count": 45,
   "metadata": {},
   "outputs": [
    {
     "data": {
      "text/plain": [
       "'/home/divnoorsingh6758219/cloudxlab_jupyter_notebooks'"
      ]
     },
     "execution_count": 45,
     "metadata": {},
     "output_type": "execute_result"
    }
   ],
   "source": [
    "pwd"
   ]
  },
  {
   "cell_type": "code",
   "execution_count": 52,
   "metadata": {},
   "outputs": [],
   "source": [
    "def file_read_func(path):\n",
    "    try:\n",
    "        with open(path) as f:\n",
    "            content = f.read()\n",
    "            content = content.replace('\\n',' ')\n",
    "            list_of_words = content.split(\" \")\n",
    "            sum = 0\n",
    "            for word in list_of_words:\n",
    "                sum = sum + len(word)\n",
    "            return sum    \n",
    "    except:\n",
    "        return -1"
   ]
  },
  {
   "cell_type": "code",
   "execution_count": 53,
   "metadata": {},
   "outputs": [
    {
     "data": {
      "text/plain": [
       "28"
      ]
     },
     "execution_count": 53,
     "metadata": {},
     "output_type": "execute_result"
    }
   ],
   "source": [
    "file_read_func(\"/home/divnoorsingh6758219/cloudxlab_jupyter_notebooks/test12\")"
   ]
  },
  {
   "cell_type": "code",
   "execution_count": 4,
   "metadata": {},
   "outputs": [
    {
     "ename": "SyntaxError",
     "evalue": "invalid syntax (<ipython-input-4-8083f5ce840e>, line 1)",
     "output_type": "error",
     "traceback": [
      "\u001b[0;36m  File \u001b[0;32m\"<ipython-input-4-8083f5ce840e>\"\u001b[0;36m, line \u001b[0;32m1\u001b[0m\n\u001b[0;31m    grep Aylmer /cxldata/big.txt\u001b[0m\n\u001b[0m              ^\u001b[0m\n\u001b[0;31mSyntaxError\u001b[0m\u001b[0;31m:\u001b[0m invalid syntax\n"
     ]
    }
   ],
   "source": [
    "grep Aylmer /cxldata/big.txt"
   ]
  },
  {
   "cell_type": "code",
   "execution_count": null,
   "metadata": {},
   "outputs": [],
   "source": []
  }
 ],
 "metadata": {
  "kernelspec": {
   "display_name": "Python 3",
   "language": "python",
   "name": "python3"
  },
  "language_info": {
   "codemirror_mode": {
    "name": "ipython",
    "version": 3
   },
   "file_extension": ".py",
   "mimetype": "text/x-python",
   "name": "python",
   "nbconvert_exporter": "python",
   "pygments_lexer": "ipython3",
   "version": "3.6.8"
  },
  "toc": {
   "base_numbering": 1,
   "nav_menu": {},
   "number_sections": true,
   "sideBar": true,
   "skip_h1_title": false,
   "title_cell": "Table of Contents",
   "title_sidebar": "Contents",
   "toc_cell": false,
   "toc_position": {},
   "toc_section_display": true,
   "toc_window_display": false
  }
 },
 "nbformat": 4,
 "nbformat_minor": 2
}

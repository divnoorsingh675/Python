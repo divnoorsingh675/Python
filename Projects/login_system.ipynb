{
 "cells": [
  {
   "cell_type": "code",
   "execution_count": 1,
   "metadata": {},
   "outputs": [],
   "source": [
    "from tkinter import *\n",
    "from tkinter import messagebox\n",
    "from PIL import ImageTk"
   ]
  },
  {
   "cell_type": "code",
   "execution_count": 14,
   "metadata": {
    "scrolled": true
   },
   "outputs": [],
   "source": [
    "class login_system:\n",
    "    def __init__(self,root):\n",
    "        self.root=root\n",
    "        self.root.title(\"Login System\")\n",
    "        self.root.geometry(\"1350x700+0+0\")\n",
    "        \n",
    "        self.bg_icon=ImageTk.PhotoImage(file=\"images/bg2.jpg\")\n",
    "        self.user_icon=ImageTk.PhotoImage(file=\"images/user3.jpg\")\n",
    "        self.pass_icon=ImageTk.PhotoImage(file=\"images/pass1.jpg\")\n",
    "        self.logo_icon=ImageTk.PhotoImage(file=\"images/logo.jpg\")\n",
    "        \n",
    "        self.uname=StringVar()\n",
    "        self.pname_=StringVar()\n",
    "        \n",
    "        bg_lbl=Label(self.root,image=self.bg_icon).pack()\n",
    "        \n",
    "        title=Label(self.root,text=\"Login System\",font=(\"times new roman\",40,\"bold\"),bg=\"Yellow\",fg=\"red\",bd=10,relief=GROOVE)\n",
    "        title.place(x=0,y=0,relwidth=1)\n",
    "        \n",
    "        Login_Frame=Frame(self.root,bg=\"white\")\n",
    "        Login_Frame.place(x=520,y=130)\n",
    "        \n",
    "        logolbl=Label(Login_Frame,image=self.logo_icon,bd=0).grid(row=0,columnspan=2,pady=20)\n",
    "        \n",
    "        lbluser= Label(Login_Frame,text=\"Username\",image=self.user_icon,compound=LEFT,font=(\"times new roman\",20,\"bold\"),bg=\"white\").grid(row=1,column=0)\n",
    "        txtuser=Entry(Login_Frame,bd=5,textvariable=self.uname,relief=GROOVE,font=(\"\",15)).grid(row=1,column=1)\n",
    "        \n",
    "        lblpass= Label(Login_Frame,text=\"Password\",image=self.pass_icon,compound=LEFT,font=(\"times new roman\",20,\"bold\"),bg=\"white\").grid(row=2,column=0)\n",
    "        txtpass=Entry(Login_Frame,bd=5,textvariable=self.pname_,relief=GROOVE,font=(\"\",15)).grid(row=2,column=1)\n",
    "        \n",
    "        btn_log=Button(Login_Frame,text=\"Login\",width=15,command=self.login,font=(\"times new roman\",14,\"bold\"),bg=\"yellow\",fg=\"red\").grid(row=3,column=1,pady=10)\n",
    "        \n",
    "    def login(self):\n",
    "        if self.uname.get()==\"\" or self.pname_.get()==\"\":\n",
    "            messagebox.showerror(\"Error\",\"All fields are required!!\")\n",
    "        elif self.uname.get()==\"divnoor\" and self.pname_.get()==\"12345\":    \n",
    "            messagebox.showinfo(\"Successful\",f\"welcome {self.uname.get()}\")\n",
    "        else:\n",
    "            messagebox.showerror(\"Error\",\"Invalid username or password\")\n",
    "            \n",
    "        \n",
    "root=Tk()\n",
    "obj=login_system(root)\n",
    "root.mainloop()"
   ]
  },
  {
   "cell_type": "code",
   "execution_count": null,
   "metadata": {},
   "outputs": [],
   "source": []
  }
 ],
 "metadata": {
  "kernelspec": {
   "display_name": "Python 3",
   "language": "python",
   "name": "python3"
  },
  "language_info": {
   "codemirror_mode": {
    "name": "ipython",
    "version": 3
   },
   "file_extension": ".py",
   "mimetype": "text/x-python",
   "name": "python",
   "nbconvert_exporter": "python",
   "pygments_lexer": "ipython3",
   "version": "3.7.4"
  }
 },
 "nbformat": 4,
 "nbformat_minor": 2
}
